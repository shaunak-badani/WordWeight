{
 "cells": [
  {
   "cell_type": "code",
   "execution_count": 1,
   "id": "afc8f556",
   "metadata": {},
   "outputs": [
    {
     "name": "stderr",
     "output_type": "stream",
     "text": [
      "2025-04-17 11:41:47.876244: E external/local_xla/xla/stream_executor/cuda/cuda_fft.cc:477] Unable to register cuFFT factory: Attempting to register factory for plugin cuFFT when one has already been registered\n",
      "WARNING: All log messages before absl::InitializeLog() is called are written to STDERR\n",
      "E0000 00:00:1744904507.887551   26408 cuda_dnn.cc:8310] Unable to register cuDNN factory: Attempting to register factory for plugin cuDNN when one has already been registered\n",
      "E0000 00:00:1744904507.891151   26408 cuda_blas.cc:1418] Unable to register cuBLAS factory: Attempting to register factory for plugin cuBLAS when one has already been registered\n",
      "2025-04-17 11:41:47.904504: I tensorflow/core/platform/cpu_feature_guard.cc:210] This TensorFlow binary is optimized to use available CPU instructions in performance-critical operations.\n",
      "To enable the following instructions: AVX2 FMA, in other operations, rebuild TensorFlow with the appropriate compiler flags.\n",
      "Could not load bitsandbytes native library: 'NoneType' object has no attribute 'split'\n",
      "Traceback (most recent call last):\n",
      "  File \"/home/shaunak/.virtualenvs/ML/lib/python3.10/site-packages/bitsandbytes/cextension.py\", line 85, in <module>\n",
      "    lib = get_native_library()\n",
      "  File \"/home/shaunak/.virtualenvs/ML/lib/python3.10/site-packages/bitsandbytes/cextension.py\", line 64, in get_native_library\n",
      "    cuda_specs = get_cuda_specs()\n",
      "  File \"/home/shaunak/.virtualenvs/ML/lib/python3.10/site-packages/bitsandbytes/cuda_specs.py\", line 39, in get_cuda_specs\n",
      "    cuda_version_string=(get_cuda_version_string()),\n",
      "  File \"/home/shaunak/.virtualenvs/ML/lib/python3.10/site-packages/bitsandbytes/cuda_specs.py\", line 29, in get_cuda_version_string\n",
      "    major, minor = get_cuda_version_tuple()\n",
      "  File \"/home/shaunak/.virtualenvs/ML/lib/python3.10/site-packages/bitsandbytes/cuda_specs.py\", line 24, in get_cuda_version_tuple\n",
      "    major, minor = map(int, torch.version.cuda.split(\".\"))\n",
      "AttributeError: 'NoneType' object has no attribute 'split'\n",
      "\n",
      "CUDA Setup failed despite CUDA being available. Please run the following command to get more information:\n",
      "\n",
      "python -m bitsandbytes\n",
      "\n",
      "Inspect the output of the command and see if you can locate CUDA libraries. You might need to add them\n",
      "to your LD_LIBRARY_PATH. If you suspect a bug, please take the information from python -m bitsandbytes\n",
      "and open an issue at: https://github.com/bitsandbytes-foundation/bitsandbytes/issues\n",
      "\n"
     ]
    }
   ],
   "source": [
    "import torch\n",
    "from diffusers import StableDiffusionPipeline, DDIMScheduler\n",
    "from torch import nn\n",
    "\n",
    "device = \"cuda\""
   ]
  },
  {
   "cell_type": "code",
   "execution_count": 2,
   "id": "d5a17902",
   "metadata": {},
   "outputs": [
    {
     "data": {
      "application/vnd.jupyter.widget-view+json": {
       "model_id": "cf6e25b08b064ff29a80cc3df4f0dd39",
       "version_major": 2,
       "version_minor": 0
      },
      "text/plain": [
       "Loading pipeline components...:   0%|          | 0/7 [00:00<?, ?it/s]"
      ]
     },
     "metadata": {},
     "output_type": "display_data"
    }
   ],
   "source": [
    "pipe_type = torch.float16 if device == \"cuda\" else torch.float32\n",
    "pipe = StableDiffusionPipeline.from_pretrained(\"runwayml/stable-diffusion-v1-5\", torch_dtype=pipe_type)\n",
    "pipe = pipe.to(device)\n",
    "pipe.enable_attention_slicing() \n",
    "pipe.scheduler = DDIMScheduler.from_config(pipe.scheduler.config)\n",
    "pipe.scheduler.set_timesteps(20)"
   ]
  },
  {
   "cell_type": "code",
   "execution_count": 3,
   "id": "cfd2d2b0",
   "metadata": {},
   "outputs": [],
   "source": [
    "prompt = \"a futuristic cityscape\"\n",
    "text_input = pipe.tokenizer(prompt, padding=\"max_length\", max_length=pipe.tokenizer.model_max_length, return_tensors=\"pt\")"
   ]
  },
  {
   "cell_type": "code",
   "execution_count": 4,
   "id": "5afec5a6",
   "metadata": {},
   "outputs": [
    {
     "name": "stderr",
     "output_type": "stream",
     "text": [
      "/home/shaunak/.virtualenvs/ML/lib/python3.10/site-packages/torch/nn/modules/linear.py:125: UserWarning: Attempting to use hipBLASLt on an unsupported architecture! Overriding blas backend to hipblas (Triggered internally at /pytorch/aten/src/ATen/Context.cpp:310.)\n",
      "  return F.linear(input, self.weight, self.bias)\n"
     ]
    }
   ],
   "source": [
    "text_embeddings = pipe.text_encoder(text_input.input_ids.to(device))[0]"
   ]
  },
  {
   "cell_type": "code",
   "execution_count": 5,
   "id": "143015d4",
   "metadata": {},
   "outputs": [
    {
     "name": "stderr",
     "output_type": "stream",
     "text": [
      "/tmp/ipykernel_26408/754967804.py:2: FutureWarning: Accessing config attribute `in_channels` directly via 'UNet2DConditionModel' object attribute is deprecated. Please access 'in_channels' over 'UNet2DConditionModel's config object instead, e.g. 'unet.config.in_channels'.\n",
      "  latents = torch.randn((1, pipe.unet.in_channels, 64, 64), device=device)  # typical latent size\n"
     ]
    }
   ],
   "source": [
    "with torch.no_grad():\n",
    "    latents = torch.randn((1, pipe.unet.in_channels, 64, 64), device=device)  # typical latent size\n",
    "    latents = latents.to(pipe_type) * pipe.scheduler.init_noise_sigma  # match scheduler expectations"
   ]
  },
  {
   "cell_type": "code",
   "execution_count": 6,
   "id": "31f59dc8",
   "metadata": {},
   "outputs": [],
   "source": [
    "text_embeddings.requires_grad_(True)\n",
    "text_embeddings.retain_grad()"
   ]
  },
  {
   "cell_type": "code",
   "execution_count": 7,
   "id": "45ee4e98",
   "metadata": {},
   "outputs": [
    {
     "data": {
      "text/plain": [
       "True"
      ]
     },
     "execution_count": 7,
     "metadata": {},
     "output_type": "execute_result"
    }
   ],
   "source": [
    "text_embeddings.requires_grad"
   ]
  },
  {
   "cell_type": "code",
   "execution_count": 8,
   "id": "4267f49e",
   "metadata": {},
   "outputs": [],
   "source": [
    "x = latents"
   ]
  },
  {
   "cell_type": "code",
   "execution_count": 9,
   "id": "dc9f0f4c",
   "metadata": {},
   "outputs": [
    {
     "name": "stdout",
     "output_type": "stream",
     "text": [
      "False\n",
      "True\n"
     ]
    },
    {
     "name": "stderr",
     "output_type": "stream",
     "text": [
      "/home/shaunak/.virtualenvs/ML/lib/python3.10/site-packages/torch/_dynamo/eval_frame.py:745: UserWarning: torch.utils.checkpoint: the use_reentrant parameter should be passed explicitly. In version 2.5 we will raise an exception if use_reentrant is not passed. use_reentrant=False is recommended, but if you need to preserve the current default behavior, you can pass use_reentrant=True. Refer to docs for more details on the differences between the two variants.\n",
      "  return fn(*args, **kwargs)\n"
     ]
    },
    {
     "name": "stdout",
     "output_type": "stream",
     "text": [
      "True\n",
      "True\n",
      "True\n",
      "True\n",
      "True\n",
      "True\n",
      "True\n",
      "True\n",
      "True\n",
      "True\n",
      "True\n",
      "True\n",
      "True\n",
      "True\n",
      "True\n",
      "True\n",
      "True\n",
      "True\n"
     ]
    }
   ],
   "source": [
    "import torch.utils.checkpoint as cp\n",
    "# x_t_list = [x]\n",
    "\n",
    "def unet_forward(model_input, t, text_embeds):\n",
    "    return pipe.unet(model_input, t, encoder_hidden_states=text_embeds).sample\n",
    "\n",
    "\n",
    "for i, t in enumerate(pipe.scheduler.timesteps):\n",
    "    model_input = pipe.scheduler.scale_model_input(x, t)\n",
    "\n",
    "    \n",
    "    print(model_input.requires_grad)\n",
    "\n",
    "    # dummy = torch.tensor(0.0, requires_grad=True, device=model_input.device)\n",
    "    # Apply checkpointing\n",
    "    noise_pred = cp.checkpoint(unet_forward, model_input, t, text_embeddings)\n",
    "\n",
    "    scheduler_output = pipe.scheduler.step(noise_pred, t, x)\n",
    "    x = scheduler_output.prev_sample"
   ]
  },
  {
   "cell_type": "code",
   "execution_count": 10,
   "id": "5d5f116e",
   "metadata": {},
   "outputs": [],
   "source": [
    "image = scheduler_output.pred_original_sample\n"
   ]
  },
  {
   "cell_type": "code",
   "execution_count": 11,
   "id": "1c2c98ed",
   "metadata": {},
   "outputs": [
    {
     "data": {
      "image/png": "[encoded data removed]",
      "text/plain": [
       "<Figure size 640x480 with 1 Axes>"
      ]
     },
     "metadata": {},
     "output_type": "display_data"
    }
   ],
   "source": [
    "import numpy as np\n",
    "image = scheduler_output.pred_original_sample\n",
    "img_np = image.detach().cpu().squeeze().permute(1, 2, 0).numpy().astype(np.float32) # Squeeze if you want to remove the channel dimension\n",
    "img_np = (img_np - img_np.min()) / (img_np.max() - img_np.min())\n",
    "import matplotlib.pyplot as plt\n",
    "# Plot using matplotlib\n",
    "plt.imshow(img_np, cmap='gray')\n",
    "plt.show()"
   ]
  },
  {
   "cell_type": "code",
   "execution_count": 12,
   "id": "c7b4de0a",
   "metadata": {},
   "outputs": [],
   "source": [
    "image_mean = image.mean()\n",
    "image_mean.backward()"
   ]
  },
  {
   "cell_type": "code",
   "execution_count": 13,
   "id": "9d29f903",
   "metadata": {},
   "outputs": [
    {
     "name": "stdout",
     "output_type": "stream",
     "text": [
      "Token: a, importance: 0.10198974609375\n",
      "Token: futuristic, importance: 0.460693359375\n",
      "Token: cityscape, importance: 0.8818359375\n"
     ]
    }
   ],
   "source": [
    "specials = {\n",
    "    \"bos_token\": pipe.tokenizer.bos_token,\n",
    "    \"eos_token\": pipe.tokenizer.eos_token,\n",
    "    \"pad_token\": pipe.tokenizer.pad_token,\n",
    "    \"unk_token\": pipe.tokenizer.unk_token,\n",
    "    \"additional_special_tokens\": pipe.tokenizer.additional_special_tokens,\n",
    "}\n",
    "\n",
    "special_token_ids = set()\n",
    "\n",
    "# Add basic special tokens\n",
    "for attr in [\"bos_token\", \"eos_token\", \"pad_token\", \"unk_token\"]:\n",
    "    token = getattr(pipe.tokenizer, attr, None)\n",
    "    if token is not None:\n",
    "        token_id = pipe.tokenizer.convert_tokens_to_ids(token)\n",
    "        special_token_ids.add(token_id)\n",
    "\n",
    "# Add additional special tokens (if any)\n",
    "for token in pipe.tokenizer.additional_special_tokens:\n",
    "    token_id = pipe.tokenizer.convert_tokens_to_ids(token)\n",
    "    special_token_ids.add(token_id)\n",
    "\n",
    "special_ids_tensor = torch.tensor(list(special_token_ids), device=\"cpu\")\n",
    "mask = ~torch.isin(text_input.input_ids[0], special_ids_tensor)\n",
    "importance = (text_embeddings.grad[0, mask] * text_embeddings[0, mask]).norm(dim=-1)\n",
    "final_importance = importance\n",
    "if importance.norm() > 0:\n",
    "    final_importance /= importance.norm()\n",
    "token_ids = text_input.input_ids[0, mask]\n",
    "for i, token_id in enumerate(token_ids):\n",
    "    imp = final_importance[i]\n",
    "    word = pipe.tokenizer.decode(token_id)\n",
    "    print(f\"Token: {word}, importance: {imp}\")\n"
   ]
  }
 ],
 "metadata": {
  "kernelspec": {
   "display_name": "ML",
   "language": "python",
   "name": "python3"
  },
  "language_info": {
   "codemirror_mode": {
    "name": "ipython",
    "version": 3
   },
   "file_extension": ".py",
   "mimetype": "text/x-python",
   "name": "python",
   "nbconvert_exporter": "python",
   "pygments_lexer": "ipython3",
   "version": "3.10.12"
  }
 },
 "nbformat": 4,
 "nbformat_minor": 5
}
