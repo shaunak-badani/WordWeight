{
 "cells": [
  {
   "cell_type": "code",
   "execution_count": 1,
   "id": "1ce09ab5",
   "metadata": {},
   "outputs": [
    {
     "name": "stderr",
     "output_type": "stream",
     "text": [
      "2025-04-16 22:08:10.654929: E external/local_xla/xla/stream_executor/cuda/cuda_fft.cc:477] Unable to register cuFFT factory: Attempting to register factory for plugin cuFFT when one has already been registered\n",
      "WARNING: All log messages before absl::InitializeLog() is called are written to STDERR\n",
      "E0000 00:00:1744855690.668994   67213 cuda_dnn.cc:8310] Unable to register cuDNN factory: Attempting to register factory for plugin cuDNN when one has already been registered\n",
      "E0000 00:00:1744855690.672403   67213 cuda_blas.cc:1418] Unable to register cuBLAS factory: Attempting to register factory for plugin cuBLAS when one has already been registered\n",
      "2025-04-16 22:08:10.685649: I tensorflow/core/platform/cpu_feature_guard.cc:210] This TensorFlow binary is optimized to use available CPU instructions in performance-critical operations.\n",
      "To enable the following instructions: AVX2 FMA, in other operations, rebuild TensorFlow with the appropriate compiler flags.\n",
      "Could not load bitsandbytes native library: 'NoneType' object has no attribute 'split'\n",
      "Traceback (most recent call last):\n",
      "  File \"/home/shaunak/.virtualenvs/ML/lib/python3.10/site-packages/bitsandbytes/cextension.py\", line 85, in <module>\n",
      "    lib = get_native_library()\n",
      "  File \"/home/shaunak/.virtualenvs/ML/lib/python3.10/site-packages/bitsandbytes/cextension.py\", line 64, in get_native_library\n",
      "    cuda_specs = get_cuda_specs()\n",
      "  File \"/home/shaunak/.virtualenvs/ML/lib/python3.10/site-packages/bitsandbytes/cuda_specs.py\", line 39, in get_cuda_specs\n",
      "    cuda_version_string=(get_cuda_version_string()),\n",
      "  File \"/home/shaunak/.virtualenvs/ML/lib/python3.10/site-packages/bitsandbytes/cuda_specs.py\", line 29, in get_cuda_version_string\n",
      "    major, minor = get_cuda_version_tuple()\n",
      "  File \"/home/shaunak/.virtualenvs/ML/lib/python3.10/site-packages/bitsandbytes/cuda_specs.py\", line 24, in get_cuda_version_tuple\n",
      "    major, minor = map(int, torch.version.cuda.split(\".\"))\n",
      "AttributeError: 'NoneType' object has no attribute 'split'\n",
      "\n",
      "CUDA Setup failed despite CUDA being available. Please run the following command to get more information:\n",
      "\n",
      "python -m bitsandbytes\n",
      "\n",
      "Inspect the output of the command and see if you can locate CUDA libraries. You might need to add them\n",
      "to your LD_LIBRARY_PATH. If you suspect a bug, please take the information from python -m bitsandbytes\n",
      "and open an issue at: https://github.com/bitsandbytes-foundation/bitsandbytes/issues\n",
      "\n"
     ]
    }
   ],
   "source": [
    "import torch\n",
    "from diffusers import StableDiffusionPipeline, DDIMScheduler\n",
    "from torch import nn\n",
    "\n",
    "device = \"cpu\""
   ]
  },
  {
   "cell_type": "code",
   "execution_count": 2,
   "id": "929611ea",
   "metadata": {},
   "outputs": [
    {
     "data": {
      "application/vnd.jupyter.widget-view+json": {
       "model_id": "a7d8e5570c75443e827e251155bde665",
       "version_major": 2,
       "version_minor": 0
      },
      "text/plain": [
       "Loading pipeline components...:   0%|          | 0/7 [00:00<?, ?it/s]"
      ]
     },
     "metadata": {},
     "output_type": "display_data"
    }
   ],
   "source": [
    "pipe_type = torch.float16 if device == \"cuda\" else torch.float32\n",
    "pipe = StableDiffusionPipeline.from_pretrained(\"runwayml/stable-diffusion-v1-5\", torch_dtype=pipe_type)\n",
    "pipe = pipe.to(device)\n",
    "pipe.enable_attention_slicing() \n",
    "pipe.scheduler = DDIMScheduler.from_config(pipe.scheduler.config)\n"
   ]
  },
  {
   "cell_type": "code",
   "execution_count": 3,
   "id": "d8ed9ad8",
   "metadata": {},
   "outputs": [],
   "source": [
    "prompt = \"a futuristic cityscape\"\n",
    "text_input = pipe.tokenizer(prompt, padding=\"max_length\", max_length=pipe.tokenizer.model_max_length, return_tensors=\"pt\")"
   ]
  },
  {
   "cell_type": "code",
   "execution_count": 4,
   "id": "59339a1d",
   "metadata": {},
   "outputs": [
    {
     "data": {
      "text/plain": [
       "{'input_ids': tensor([[49406,   320, 30987, 40808, 49407, 49407, 49407, 49407, 49407, 49407,\n",
       "         49407, 49407, 49407, 49407, 49407, 49407, 49407, 49407, 49407, 49407,\n",
       "         49407, 49407, 49407, 49407, 49407, 49407, 49407, 49407, 49407, 49407,\n",
       "         49407, 49407, 49407, 49407, 49407, 49407, 49407, 49407, 49407, 49407,\n",
       "         49407, 49407, 49407, 49407, 49407, 49407, 49407, 49407, 49407, 49407,\n",
       "         49407, 49407, 49407, 49407, 49407, 49407, 49407, 49407, 49407, 49407,\n",
       "         49407, 49407, 49407, 49407, 49407, 49407, 49407, 49407, 49407, 49407,\n",
       "         49407, 49407, 49407, 49407, 49407, 49407, 49407]]), 'attention_mask': tensor([[1, 1, 1, 1, 1, 0, 0, 0, 0, 0, 0, 0, 0, 0, 0, 0, 0, 0, 0, 0, 0, 0, 0, 0,\n",
       "         0, 0, 0, 0, 0, 0, 0, 0, 0, 0, 0, 0, 0, 0, 0, 0, 0, 0, 0, 0, 0, 0, 0, 0,\n",
       "         0, 0, 0, 0, 0, 0, 0, 0, 0, 0, 0, 0, 0, 0, 0, 0, 0, 0, 0, 0, 0, 0, 0, 0,\n",
       "         0, 0, 0, 0, 0]])}"
      ]
     },
     "execution_count": 4,
     "metadata": {},
     "output_type": "execute_result"
    }
   ],
   "source": [
    "text_input"
   ]
  },
  {
   "cell_type": "code",
   "execution_count": 5,
   "id": "229a193a",
   "metadata": {},
   "outputs": [
    {
     "data": {
      "text/plain": [
       "['<|startoftext|>',\n",
       " 'a</w>',\n",
       " 'futuristic</w>',\n",
       " 'cityscape</w>',\n",
       " '<|endoftext|>',\n",
       " '<|endoftext|>',\n",
       " '<|endoftext|>',\n",
       " '<|endoftext|>',\n",
       " '<|endoftext|>',\n",
       " '<|endoftext|>',\n",
       " '<|endoftext|>',\n",
       " '<|endoftext|>',\n",
       " '<|endoftext|>',\n",
       " '<|endoftext|>',\n",
       " '<|endoftext|>',\n",
       " '<|endoftext|>',\n",
       " '<|endoftext|>',\n",
       " '<|endoftext|>',\n",
       " '<|endoftext|>',\n",
       " '<|endoftext|>',\n",
       " '<|endoftext|>',\n",
       " '<|endoftext|>',\n",
       " '<|endoftext|>',\n",
       " '<|endoftext|>',\n",
       " '<|endoftext|>',\n",
       " '<|endoftext|>',\n",
       " '<|endoftext|>',\n",
       " '<|endoftext|>',\n",
       " '<|endoftext|>',\n",
       " '<|endoftext|>',\n",
       " '<|endoftext|>',\n",
       " '<|endoftext|>',\n",
       " '<|endoftext|>',\n",
       " '<|endoftext|>',\n",
       " '<|endoftext|>',\n",
       " '<|endoftext|>',\n",
       " '<|endoftext|>',\n",
       " '<|endoftext|>',\n",
       " '<|endoftext|>',\n",
       " '<|endoftext|>',\n",
       " '<|endoftext|>',\n",
       " '<|endoftext|>',\n",
       " '<|endoftext|>',\n",
       " '<|endoftext|>',\n",
       " '<|endoftext|>',\n",
       " '<|endoftext|>',\n",
       " '<|endoftext|>',\n",
       " '<|endoftext|>',\n",
       " '<|endoftext|>',\n",
       " '<|endoftext|>',\n",
       " '<|endoftext|>',\n",
       " '<|endoftext|>',\n",
       " '<|endoftext|>',\n",
       " '<|endoftext|>',\n",
       " '<|endoftext|>',\n",
       " '<|endoftext|>',\n",
       " '<|endoftext|>',\n",
       " '<|endoftext|>',\n",
       " '<|endoftext|>',\n",
       " '<|endoftext|>',\n",
       " '<|endoftext|>',\n",
       " '<|endoftext|>',\n",
       " '<|endoftext|>',\n",
       " '<|endoftext|>',\n",
       " '<|endoftext|>',\n",
       " '<|endoftext|>',\n",
       " '<|endoftext|>',\n",
       " '<|endoftext|>',\n",
       " '<|endoftext|>',\n",
       " '<|endoftext|>',\n",
       " '<|endoftext|>',\n",
       " '<|endoftext|>',\n",
       " '<|endoftext|>',\n",
       " '<|endoftext|>',\n",
       " '<|endoftext|>',\n",
       " '<|endoftext|>',\n",
       " '<|endoftext|>']"
      ]
     },
     "execution_count": 5,
     "metadata": {},
     "output_type": "execute_result"
    }
   ],
   "source": [
    "pipe.tokenizer.convert_ids_to_tokens(text_input.input_ids[0])"
   ]
  },
  {
   "cell_type": "code",
   "execution_count": 6,
   "id": "fd0e5ea2",
   "metadata": {},
   "outputs": [
    {
     "data": {
      "text/plain": [
       "tensor(49406)"
      ]
     },
     "execution_count": 6,
     "metadata": {},
     "output_type": "execute_result"
    }
   ],
   "source": [
    "text_input.input_ids[0, 0]"
   ]
  },
  {
   "cell_type": "code",
   "execution_count": 7,
   "id": "81550be4",
   "metadata": {},
   "outputs": [
    {
     "data": {
      "text/plain": [
       "'a futuristic cityscape'"
      ]
     },
     "execution_count": 7,
     "metadata": {},
     "output_type": "execute_result"
    }
   ],
   "source": [
    "pipe.tokenizer.decode(text_input.input_ids[0], skip_special_tokens=True)"
   ]
  },
  {
   "cell_type": "code",
   "execution_count": 8,
   "id": "afe506f5",
   "metadata": {},
   "outputs": [
    {
     "data": {
      "text/plain": [
       "'a'"
      ]
     },
     "execution_count": 8,
     "metadata": {},
     "output_type": "execute_result"
    }
   ],
   "source": [
    "pipe.tokenizer.decode(torch.tensor([text_input.input_ids[0, 1]]))"
   ]
  },
  {
   "cell_type": "code",
   "execution_count": 9,
   "id": "6b8d6bb7",
   "metadata": {},
   "outputs": [],
   "source": [
    "with torch.no_grad():\n",
    "    text_embeddings = pipe.text_encoder(text_input.input_ids.to(device))[0]"
   ]
  },
  {
   "cell_type": "code",
   "execution_count": 10,
   "id": "a072ef5f",
   "metadata": {},
   "outputs": [
    {
     "data": {
      "text/plain": [
       "tensor([[[-0.3884,  0.0229, -0.0522,  ..., -0.4899, -0.3066,  0.0675],\n",
       "         [ 0.0290, -1.3258,  0.3085,  ..., -0.5257,  0.9768,  0.6652],\n",
       "         [ 0.1643,  0.0385,  0.7491,  ..., -1.2051, -0.5538,  0.5510],\n",
       "         ...,\n",
       "         [ 1.0145,  1.4835, -0.6628,  ...,  1.0167, -0.8124, -0.3304],\n",
       "         [ 1.0173,  1.4762, -0.6511,  ...,  1.0101, -0.8085, -0.3428],\n",
       "         [ 1.0339,  1.4352, -0.6193,  ...,  0.9290, -0.7245, -0.3472]]],\n",
       "       requires_grad=True)"
      ]
     },
     "execution_count": 10,
     "metadata": {},
     "output_type": "execute_result"
    }
   ],
   "source": [
    "text_embeddings.requires_grad_(True)"
   ]
  },
  {
   "cell_type": "code",
   "execution_count": 11,
   "id": "abcec3d5",
   "metadata": {},
   "outputs": [
    {
     "name": "stderr",
     "output_type": "stream",
     "text": [
      "/tmp/ipykernel_67213/754967804.py:2: FutureWarning: Accessing config attribute `in_channels` directly via 'UNet2DConditionModel' object attribute is deprecated. Please access 'in_channels' over 'UNet2DConditionModel's config object instead, e.g. 'unet.config.in_channels'.\n",
      "  latents = torch.randn((1, pipe.unet.in_channels, 64, 64), device=device)  # typical latent size\n"
     ]
    }
   ],
   "source": [
    "with torch.no_grad():\n",
    "    latents = torch.randn((1, pipe.unet.in_channels, 64, 64), device=device)  # typical latent size\n",
    "    latents = latents.to(pipe_type) * pipe.scheduler.init_noise_sigma  # match scheduler expectations"
   ]
  },
  {
   "cell_type": "code",
   "execution_count": 12,
   "id": "4a93020a",
   "metadata": {},
   "outputs": [
    {
     "data": {
      "text/plain": [
       "torch.float32"
      ]
     },
     "execution_count": 12,
     "metadata": {},
     "output_type": "execute_result"
    }
   ],
   "source": [
    "latents.dtype"
   ]
  },
  {
   "cell_type": "code",
   "execution_count": 13,
   "id": "26a8a15e",
   "metadata": {},
   "outputs": [
    {
     "data": {
      "text/plain": [
       "torch.float32"
      ]
     },
     "execution_count": 13,
     "metadata": {},
     "output_type": "execute_result"
    }
   ],
   "source": [
    "text_embeddings.dtype"
   ]
  },
  {
   "cell_type": "code",
   "execution_count": 14,
   "id": "141d9bf5",
   "metadata": {},
   "outputs": [],
   "source": [
    "from torch.amp import autocast\n",
    "\n",
    "with autocast(enabled=True, device_type=device):\n",
    "    noise_pred = pipe.unet(latents, torch.tensor([1], device=device), encoder_hidden_states=text_embeddings).sample"
   ]
  },
  {
   "cell_type": "code",
   "execution_count": 15,
   "id": "a985aae9",
   "metadata": {},
   "outputs": [
    {
     "data": {
      "text/plain": [
       "tensor([[[[ 7.1795e-02, -1.8777e+00,  1.4760e+00,  ...,  1.5920e+00,\n",
       "            1.6949e+00, -1.1960e+00],\n",
       "          [-1.2509e+00,  2.0197e-01, -1.5912e+00,  ...,  1.9098e-01,\n",
       "            1.8624e+00, -8.4567e-01],\n",
       "          [-3.0943e-02, -8.6657e-01, -3.0319e-01,  ..., -1.0809e+00,\n",
       "            7.9757e-01,  2.1054e-01],\n",
       "          ...,\n",
       "          [-5.1643e-01, -4.8337e-01,  1.0039e-01,  ..., -3.7661e-02,\n",
       "           -1.3211e-01,  1.1291e+00],\n",
       "          [-1.0642e+00, -1.8228e+00, -1.1798e+00,  ..., -1.0029e+00,\n",
       "            6.0116e-01,  1.4123e+00],\n",
       "          [ 1.2654e-01,  4.0914e-01,  1.9534e+00,  ...,  1.3294e+00,\n",
       "           -4.7598e-02, -1.7091e-01]],\n",
       "\n",
       "         [[ 3.9549e-02,  1.7690e+00,  1.7959e+00,  ...,  6.8599e-01,\n",
       "           -1.3469e+00,  3.8565e-01],\n",
       "          [ 1.1522e+00,  3.6296e-01,  7.4646e-01,  ..., -9.4630e-01,\n",
       "           -1.3303e+00,  9.5172e-01],\n",
       "          [ 4.9067e-01,  2.4589e+00, -6.9079e-01,  ...,  8.5467e-01,\n",
       "           -8.0011e-01,  1.1217e-01],\n",
       "          ...,\n",
       "          [ 2.3585e-01,  9.6048e-01,  7.2005e-01,  ...,  1.2040e+00,\n",
       "            9.9665e-01, -1.2616e+00],\n",
       "          [-2.9653e-01,  1.0649e+00, -8.8543e-01,  ...,  1.3555e+00,\n",
       "           -1.7641e-01, -2.1433e+00],\n",
       "          [ 1.4684e+00,  8.3128e-01, -3.2362e-01,  ...,  3.7841e-01,\n",
       "            5.1169e-01,  5.7500e-01]],\n",
       "\n",
       "         [[-1.0762e-02, -5.7900e-01, -5.8761e-01,  ..., -6.8235e-01,\n",
       "            6.5091e-01,  5.4465e-01],\n",
       "          [ 7.4285e-02,  6.2571e-01,  2.9866e-02,  ...,  4.6484e-01,\n",
       "            8.3124e-01,  7.5070e-02],\n",
       "          [ 1.1281e+00,  1.3936e+00,  6.2486e-01,  ..., -5.1175e-01,\n",
       "            2.6128e-01,  8.6399e-01],\n",
       "          ...,\n",
       "          [-9.6140e-02, -6.4936e-01,  3.0281e-01,  ..., -4.3191e-01,\n",
       "           -8.7688e-01,  5.6341e-01],\n",
       "          [-2.4644e-01, -1.5237e+00,  4.0249e-01,  ..., -3.3295e-02,\n",
       "           -6.8544e-01,  1.4554e+00],\n",
       "          [ 2.3081e+00, -1.6500e-01,  1.9080e+00,  ..., -1.5695e+00,\n",
       "           -8.6325e-01,  4.6931e-01]],\n",
       "\n",
       "         [[ 7.9681e-02, -3.9349e-01, -7.6991e-01,  ..., -2.3467e+00,\n",
       "           -3.4479e-01,  5.9415e-01],\n",
       "          [ 4.2061e-01, -7.8214e-01, -6.6987e-02,  ...,  8.3612e-01,\n",
       "           -1.1148e+00, -5.1005e-01],\n",
       "          [ 1.2632e-01, -1.2024e-01,  5.9813e-01,  ..., -4.5457e-01,\n",
       "           -1.3059e+00,  1.2491e+00],\n",
       "          ...,\n",
       "          [ 3.1104e-01, -1.3022e-01,  1.2287e+00,  ..., -9.3047e-01,\n",
       "           -9.8592e-02, -1.6094e+00],\n",
       "          [ 2.6436e-01, -4.1429e-01, -1.9988e+00,  ..., -3.9879e-02,\n",
       "           -4.1314e-02, -1.4026e+00],\n",
       "          [ 5.0821e-01, -1.2419e-01, -5.3649e-01,  ..., -2.2114e-03,\n",
       "            1.6027e+00, -5.0324e-01]]]])"
      ]
     },
     "execution_count": 15,
     "metadata": {},
     "output_type": "execute_result"
    }
   ],
   "source": [
    "latents"
   ]
  },
  {
   "cell_type": "code",
   "execution_count": 16,
   "id": "31a161ca",
   "metadata": {},
   "outputs": [
    {
     "name": "stdout",
     "output_type": "stream",
     "text": [
      "Help on method step in module diffusers.schedulers.scheduling_ddim:\n",
      "\n",
      "step(model_output: torch.Tensor, timestep: int, sample: torch.Tensor, eta: float = 0.0, use_clipped_model_output: bool = False, generator=None, variance_noise: Optional[torch.Tensor] = None, return_dict: bool = True) -> Union[diffusers.schedulers.scheduling_ddim.DDIMSchedulerOutput, Tuple] method of diffusers.schedulers.scheduling_ddim.DDIMScheduler instance\n",
      "    Predict the sample from the previous timestep by reversing the SDE. This function propagates the diffusion\n",
      "    process from the learned model outputs (most often the predicted noise).\n",
      "    \n",
      "    Args:\n",
      "        model_output (`torch.Tensor`):\n",
      "            The direct output from learned diffusion model.\n",
      "        timestep (`float`):\n",
      "            The current discrete timestep in the diffusion chain.\n",
      "        sample (`torch.Tensor`):\n",
      "            A current instance of a sample created by the diffusion process.\n",
      "        eta (`float`):\n",
      "            The weight of noise for added noise in diffusion step.\n",
      "        use_clipped_model_output (`bool`, defaults to `False`):\n",
      "            If `True`, computes \"corrected\" `model_output` from the clipped predicted original sample. Necessary\n",
      "            because predicted original sample is clipped to [-1, 1] when `self.config.clip_sample` is `True`. If no\n",
      "            clipping has happened, \"corrected\" `model_output` would coincide with the one provided as input and\n",
      "            `use_clipped_model_output` has no effect.\n",
      "        generator (`torch.Generator`, *optional*):\n",
      "            A random number generator.\n",
      "        variance_noise (`torch.Tensor`):\n",
      "            Alternative to generating noise with `generator` by directly providing the noise for the variance\n",
      "            itself. Useful for methods such as [`CycleDiffusion`].\n",
      "        return_dict (`bool`, *optional*, defaults to `True`):\n",
      "            Whether or not to return a [`~schedulers.scheduling_ddim.DDIMSchedulerOutput`] or `tuple`.\n",
      "    \n",
      "    Returns:\n",
      "        [`~schedulers.scheduling_ddim.DDIMSchedulerOutput`] or `tuple`:\n",
      "            If return_dict is `True`, [`~schedulers.scheduling_ddim.DDIMSchedulerOutput`] is returned, otherwise a\n",
      "            tuple is returned where the first element is the sample tensor.\n",
      "\n"
     ]
    }
   ],
   "source": [
    "help(pipe.scheduler.step)"
   ]
  },
  {
   "cell_type": "code",
   "execution_count": null,
   "id": "1c1fb7a6",
   "metadata": {},
   "outputs": [],
   "source": [
    "pipe.scheduler.set_timesteps(20)\n",
    "latents = pipe.scheduler.step(model_output=noise_pred, timestep=1, sample=latents)"
   ]
  },
  {
   "cell_type": "code",
   "execution_count": 24,
   "id": "3df88f40",
   "metadata": {},
   "outputs": [],
   "source": [
    "image = latents.pred_original_sample"
   ]
  },
  {
   "cell_type": "code",
   "execution_count": null,
   "id": "111fc4fc",
   "metadata": {},
   "outputs": [
    {
     "name": "stdout",
     "output_type": "stream",
     "text": [
      "[[[0.49865663 0.495334   0.48828444 0.49941847]\n",
      "  [0.23899566 0.7246292  0.4115604  0.4361828 ]\n",
      "  [0.6854158  0.72744715 0.4094389  0.38765204]\n",
      "  ...\n",
      "  [0.69891256 0.5790437  0.3973442  0.18178038]\n",
      "  [0.7149641  0.30981806 0.5769416  0.44276378]\n",
      "  [0.3324531  0.5394963  0.5620244  0.566162  ]]\n",
      "\n",
      " [[0.32271641 0.64262414 0.50027865 0.54459304]\n",
      "  [0.5150524  0.53845847 0.5723222  0.3871665 ]\n",
      "  [0.27817908 0.58943695 0.49359158 0.47868207]\n",
      "  ...\n",
      "  [0.51616526 0.36350745 0.55158466 0.59838134]\n",
      "  [0.7364851  0.3122973  0.600398   0.34237263]\n",
      "  [0.37668318 0.614751   0.49941707 0.42015052]]\n",
      "\n",
      " [[0.48495248 0.5543281  0.63813215 0.5061474 ]\n",
      "  [0.3736184  0.81725293 0.675437   0.47217053]\n",
      "  [0.44790348 0.3975589  0.57169664 0.569302  ]\n",
      "  ...\n",
      "  [0.34463653 0.60287046 0.42033455 0.42810118]\n",
      "  [0.5943089  0.38355312 0.5245468  0.31655806]\n",
      "  [0.5177835  0.503636   0.6037802  0.6541713 ]]\n",
      "\n",
      " ...\n",
      "\n",
      " [[0.4203467  0.5206932  0.47753093 0.5304383 ]\n",
      "  [0.42426655 0.6173462  0.40211576 0.47205648]\n",
      "  [0.5031291  0.5846744  0.5281575  0.6534239 ]\n",
      "  ...\n",
      "  [0.48406994 0.64962846 0.43020824 0.3641266 ]\n",
      "  [0.47245336 0.6213738  0.37255406 0.47545052]\n",
      "  [0.6361021  0.32247344 0.56217116 0.28022587]]\n",
      "\n",
      " [[0.3476194  0.44927827 0.45658103 0.5232796 ]\n",
      "  [0.2471764  0.6307599  0.2863843  0.43316972]\n",
      "  [0.3316653  0.37078002 0.54207337 0.22412805]\n",
      "  ...\n",
      "  [0.35643688 0.66947    0.48566782 0.48388052]\n",
      "  [0.5674135  0.46556765 0.39826754 0.4843715 ]\n",
      "  [0.6753318  0.20590785 0.6809829  0.30667904]]\n",
      "\n",
      " [[0.5061297  0.6838588  0.7956914  0.5569359 ]\n",
      "  [0.5436418  0.6001169  0.46714422 0.47233507]\n",
      "  [0.7483395  0.44559896 0.74225205 0.42023975]\n",
      "  ...\n",
      "  [0.66600794 0.538836   0.27844346 0.4890638 ]\n",
      "  [0.48386845 0.5577861  0.37529972 0.7004637 ]\n",
      "  [0.46675465 0.5645364  0.55031323 0.42220628]]]\n"
     ]
    },
    {
     "data": {
      "image/png": "[encoded data removed]",
      "text/plain": [
       "<Figure size 640x480 with 1 Axes>"
      ]
     },
     "metadata": {},
     "output_type": "display_data"
    }
   ],
   "source": [
    "img_np = image.detach().cpu().squeeze().permute(1, 2, 0).numpy() # Squeeze if you want to remove the channel dimension\n",
    "img_np = (img_np - img_np.min()) / (img_np.max() - img_np.min())\n",
    "import matplotlib.pyplot as plt\n",
    "# Plot using matplotlib\n",
    "plt.imshow(img_np, cmap='gray')\n",
    "plt.show()"
   ]
  },
  {
   "cell_type": "code",
   "execution_count": 33,
   "id": "d1bd8d32",
   "metadata": {},
   "outputs": [],
   "source": [
    "m = image.mean()"
   ]
  },
  {
   "cell_type": "code",
   "execution_count": 35,
   "id": "c5a1b0cf",
   "metadata": {},
   "outputs": [],
   "source": [
    "m.backward()"
   ]
  },
  {
   "cell_type": "code",
   "execution_count": 45,
   "id": "cff71651",
   "metadata": {},
   "outputs": [
    {
     "data": {
      "text/plain": [
       "torch.Size([1, 77, 768])"
      ]
     },
     "execution_count": 45,
     "metadata": {},
     "output_type": "execute_result"
    }
   ],
   "source": [
    "text_embeddings.grad.shape"
   ]
  },
  {
   "cell_type": "code",
   "execution_count": 47,
   "id": "ec70c7db",
   "metadata": {},
   "outputs": [
    {
     "data": {
      "text/plain": [
       "tensor([[49406,   320, 30987, 40808, 49407, 49407, 49407, 49407, 49407, 49407,\n",
       "         49407, 49407, 49407, 49407, 49407, 49407, 49407, 49407, 49407, 49407,\n",
       "         49407, 49407, 49407, 49407, 49407, 49407, 49407, 49407, 49407, 49407,\n",
       "         49407, 49407, 49407, 49407, 49407, 49407, 49407, 49407, 49407, 49407,\n",
       "         49407, 49407, 49407, 49407, 49407, 49407, 49407, 49407, 49407, 49407,\n",
       "         49407, 49407, 49407, 49407, 49407, 49407, 49407, 49407, 49407, 49407,\n",
       "         49407, 49407, 49407, 49407, 49407, 49407, 49407, 49407, 49407, 49407,\n",
       "         49407, 49407, 49407, 49407, 49407, 49407, 49407]])"
      ]
     },
     "execution_count": 47,
     "metadata": {},
     "output_type": "execute_result"
    }
   ],
   "source": [
    "text_input.input_ids"
   ]
  },
  {
   "cell_type": "code",
   "execution_count": 49,
   "id": "1c3df43c",
   "metadata": {},
   "outputs": [
    {
     "data": {
      "text/plain": [
       "49408"
      ]
     },
     "execution_count": 49,
     "metadata": {},
     "output_type": "execute_result"
    }
   ],
   "source": [
    "pipe.tokenizer.vocab_size"
   ]
  },
  {
   "cell_type": "code",
   "execution_count": 50,
   "id": "c2b79d11",
   "metadata": {},
   "outputs": [
    {
     "name": "stdout",
     "output_type": "stream",
     "text": [
      "bos_token: <|startoftext|>\n",
      "eos_token: <|endoftext|>\n",
      "pad_token: <|endoftext|>\n",
      "unk_token: <|endoftext|>\n",
      "additional_special_tokens: []\n"
     ]
    }
   ],
   "source": [
    "specials = {\n",
    "    \"bos_token\": pipe.tokenizer.bos_token,\n",
    "    \"eos_token\": pipe.tokenizer.eos_token,\n",
    "    \"pad_token\": pipe.tokenizer.pad_token,\n",
    "    \"unk_token\": pipe.tokenizer.unk_token,\n",
    "    \"additional_special_tokens\": pipe.tokenizer.additional_special_tokens,\n",
    "}\n",
    "\n",
    "for name, token in specials.items():\n",
    "    print(f\"{name}: {token}\")\n"
   ]
  },
  {
   "cell_type": "code",
   "execution_count": 51,
   "id": "efe02dd8",
   "metadata": {},
   "outputs": [
    {
     "name": "stdout",
     "output_type": "stream",
     "text": [
      "Special token IDs: {49406, 49407}\n"
     ]
    }
   ],
   "source": [
    "special_token_ids = set()\n",
    "\n",
    "# Add basic special tokens\n",
    "for attr in [\"bos_token\", \"eos_token\", \"pad_token\", \"unk_token\"]:\n",
    "    token = getattr(pipe.tokenizer, attr, None)\n",
    "    if token is not None:\n",
    "        token_id = pipe.tokenizer.convert_tokens_to_ids(token)\n",
    "        special_token_ids.add(token_id)\n",
    "\n",
    "# Add additional special tokens (if any)\n",
    "for token in pipe.tokenizer.additional_special_tokens:\n",
    "    token_id = pipe.tokenizer.convert_tokens_to_ids(token)\n",
    "    special_token_ids.add(token_id)\n",
    "\n",
    "print(\"Special token IDs:\", special_token_ids)"
   ]
  },
  {
   "cell_type": "code",
   "execution_count": 57,
   "id": "60e1c775",
   "metadata": {},
   "outputs": [],
   "source": [
    "special_ids_tensor = torch.tensor(list(special_token_ids), device=device)"
   ]
  },
  {
   "cell_type": "code",
   "execution_count": 58,
   "id": "c9b97bf1",
   "metadata": {},
   "outputs": [],
   "source": [
    "mask = ~torch.isin(text_input.input_ids[0], special_ids_tensor)"
   ]
  },
  {
   "cell_type": "code",
   "execution_count": 61,
   "id": "3ed363d7",
   "metadata": {},
   "outputs": [
    {
     "data": {
      "text/plain": [
       "tensor([[ 0.0290, -1.3258,  0.3085,  ..., -0.5257,  0.9768,  0.6652],\n",
       "        [ 0.1643,  0.0385,  0.7491,  ..., -1.2051, -0.5538,  0.5510],\n",
       "        [ 1.4376,  1.7590,  1.1330,  ...,  0.1609, -1.1063,  1.7154]],\n",
       "       grad_fn=<IndexBackward0>)"
      ]
     },
     "execution_count": 61,
     "metadata": {},
     "output_type": "execute_result"
    }
   ],
   "source": [
    "text_embeddings[0, mask]"
   ]
  },
  {
   "cell_type": "code",
   "execution_count": 79,
   "id": "75048993",
   "metadata": {},
   "outputs": [],
   "source": [
    "importance = (text_embeddings.grad[0, mask] * text_embeddings[0, mask]).sum(dim=-1)"
   ]
  },
  {
   "cell_type": "code",
   "execution_count": 82,
   "id": "5e37fe28",
   "metadata": {},
   "outputs": [],
   "source": [
    "final_importance = importance / importance.norm()"
   ]
  },
  {
   "cell_type": "code",
   "execution_count": 83,
   "id": "da837038",
   "metadata": {},
   "outputs": [
    {
     "data": {
      "text/plain": [
       "tensor([0.3973, 0.5576, 0.7289], grad_fn=<DivBackward0>)"
      ]
     },
     "execution_count": 83,
     "metadata": {},
     "output_type": "execute_result"
    }
   ],
   "source": [
    "final_importance"
   ]
  },
  {
   "cell_type": "code",
   "execution_count": 87,
   "id": "71e5327d",
   "metadata": {},
   "outputs": [],
   "source": [
    "token_ids = text_input.input_ids[0, mask]"
   ]
  },
  {
   "cell_type": "code",
   "execution_count": 88,
   "id": "ff2bfe31",
   "metadata": {},
   "outputs": [
    {
     "name": "stdout",
     "output_type": "stream",
     "text": [
      "Token: a, importance: 0.3972623646259308\n",
      "Token: futuristic, importance: 0.5576004981994629\n",
      "Token: cityscape, importance: 0.7288788557052612\n"
     ]
    }
   ],
   "source": [
    "for i, token_id in enumerate(token_ids):\n",
    "    imp = final_importance[i]\n",
    "    word = pipe.tokenizer.decode(token_id)\n",
    "    print(f\"Token: {word}, importance: {imp}\")"
   ]
  }
 ],
 "metadata": {
  "kernelspec": {
   "display_name": "ML",
   "language": "python",
   "name": "python3"
  },
  "language_info": {
   "codemirror_mode": {
    "name": "ipython",
    "version": 3
   },
   "file_extension": ".py",
   "mimetype": "text/x-python",
   "name": "python",
   "nbconvert_exporter": "python",
   "pygments_lexer": "ipython3",
   "version": "3.10.12"
  }
 },
 "nbformat": 4,
 "nbformat_minor": 5
}
